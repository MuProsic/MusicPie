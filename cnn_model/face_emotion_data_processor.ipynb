{
 "cells": [
  {
   "cell_type": "code",
   "execution_count": 1,
   "metadata": {},
   "outputs": [],
   "source": [
    "import random\n",
    "import matplotlib.pyplot as plt\n",
    "import numpy as np\n",
    "import cv2\n",
    "import os\n",
    "import pickle"
   ]
  },
  {
   "cell_type": "markdown",
   "metadata": {},
   "source": [
    "<h1>Pre-processing our data (train and test)</h1>"
   ]
  },
  {
   "cell_type": "code",
   "execution_count": 2,
   "metadata": {},
   "outputs": [],
   "source": [
    "# Processing our dataset\n",
    "CATEGORIES = ['angry', 'disgust', 'fear', 'happy', 'neutral', 'sad', 'surprise']\n",
    "IMG_SIZE = 48\n",
    "\n",
    "train_data = []\n",
    "test_data = []\n",
    "\n",
    "def create_training_data():\n",
    "    DATADIR = './facial_data/train/'\n",
    "    for category in CATEGORIES:\n",
    "        path = os.path.join(DATADIR, category)   #path to emotions directory\n",
    "        class_num = CATEGORIES.index(category)   #Since our model deals with numeric values instead of string values, we convert the classes to numbers based on their index location in CATEGIRES\n",
    "        for img in os.listdir(path):\n",
    "            try:\n",
    "                img_array = cv2.imread(os.path.join(path,img), cv2.IMREAD_GRAYSCALE)\n",
    "                new_arr = cv2.resize(img_array, (IMG_SIZE, IMG_SIZE))\n",
    "                train_data.append([new_arr, class_num])\n",
    "            except Exception as e:\n",
    "                pass\n",
    "    random.shuffle(train_data)    \n",
    "    X_train = []\n",
    "    y_train = []\n",
    "\n",
    "    for features, label in train_data:\n",
    "        X_train.append(features)\n",
    "        y_train.append(label)\n",
    "    \n",
    "    X_train = np.array(X_train)#.reshape(-1, IMG_SIZE, IMG_SIZE, 1) # WARNING: You need to check in your notes how to reshape data, so that PyTorch doesn't crash when you try to load your data (e.g. [channels, width, height])\n",
    "\n",
    "    new_train_data = (X_train, y_train)\n",
    "    \n",
    "    # Dumping training data\n",
    "    pickle_out = open(\"X_train.pickle\", \"wb\")\n",
    "    pickle.dump(X_train, pickle_out)\n",
    "    pickle_out.close()\n",
    "\n",
    "    pickle_out = open(\"y_train.pickle\", \"wb\")\n",
    "    pickle.dump(y_train, pickle_out)\n",
    "    pickle_out.close()\n",
    "\n",
    "def create_testing_data():\n",
    "    DATADIR = './facial_data/test/'\n",
    "    for category in CATEGORIES:\n",
    "        path = os.path.join(DATADIR, category)   #path to emotions directory\n",
    "        class_num = CATEGORIES.index(category)   #Since our model deals with numeric values instead of string values, we convert the classes to numbers based on their index location in CATEGIRES\n",
    "        for img in os.listdir(path):\n",
    "            try:\n",
    "                img_array = cv2.imread(os.path.join(path,img), cv2.IMREAD_GRAYSCALE)\n",
    "                new_arr = cv2.resize(img_array, (IMG_SIZE, IMG_SIZE))\n",
    "                test_data.append([new_arr, class_num])\n",
    "            except Exception as e:\n",
    "                pass\n",
    "    random.shuffle(test_data)\n",
    "    X_test = []\n",
    "    y_test = []\n",
    "\n",
    "    for features, label in test_data:\n",
    "        X_test.append(features)\n",
    "        y_test.append(label)\n",
    "    \n",
    "    X_test = np.array(X_test)#.reshape(-1, IMG_SIZE, IMG_SIZE, 1) # WARNING: You need to check in your notes how to reshape data, so that PyTorch doesn't crash when you try to load your data (e.g. [channels, width, height])\n",
    "\n",
    "    new_test_data = (X_test, y_test)\n",
    "    \n",
    "    # Dumping testing data\n",
    "    pickle_out = open(\"X_test.pickle\", \"wb\")\n",
    "    pickle.dump(X_test, pickle_out)\n",
    "    pickle_out.close()\n",
    "\n",
    "    pickle_out = open(\"y_test.pickle\", \"wb\")\n",
    "    pickle.dump(y_test, pickle_out)\n",
    "    pickle_out.close()\n",
    "            \n",
    "create_training_data()\n",
    "create_testing_data()"
   ]
  },
  {
   "cell_type": "code",
   "execution_count": 3,
   "metadata": {},
   "outputs": [
    {
     "name": "stdout",
     "output_type": "stream",
     "text": [
      "5\n"
     ]
    },
    {
     "data": {
      "image/png": "[encoded data removed]",
      "text/plain": [
       "<Figure size 640x480 with 1 Axes>"
      ]
     },
     "metadata": {},
     "output_type": "display_data"
    }
   ],
   "source": [
    "i = 4000\n",
    "plt.imshow(train_data[i][0])\n",
    "print(train_data[i][1])"
   ]
  },
  {
   "cell_type": "code",
   "execution_count": null,
   "metadata": {},
   "outputs": [],
   "source": []
  }
 ],
 "metadata": {
  "kernelspec": {
   "display_name": "Python 3 (ipykernel)",
   "language": "python",
   "name": "python3"
  },
  "language_info": {
   "codemirror_mode": {
    "name": "ipython",
    "version": 3
   },
   "file_extension": ".py",
   "mimetype": "text/x-python",
   "name": "python",
   "nbconvert_exporter": "python",
   "pygments_lexer": "ipython3",
   "version": "3.9.13"
  },
  "vscode": {
   "interpreter": {
    "hash": "e534e48711db4d1e1c48977d0d14ff85b1f16d41bcc4fdfd88268a329b3c9d66"
   }
  }
 },
 "nbformat": 4,
 "nbformat_minor": 2
}
